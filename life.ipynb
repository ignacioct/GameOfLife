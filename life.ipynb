{
 "cells": [
  {
   "cell_type": "markdown",
   "metadata": {},
   "source": [
    "# Conway's Game of Life Jupyter Notebook Simulator"
   ]
  },
  {
   "cell_type": "markdown",
   "metadata": {},
   "source": [
    "A Conway's Game of Life simulator build on Jupyter Notebook. Based on [jiffyclub](https://gist.github.com/jiffyclub/3778422) convolutional approach, but with custom grid addition. "
   ]
  },
  {
   "cell_type": "markdown",
   "metadata": {},
   "source": [
    "## Initial installs and import"
   ]
  },
  {
   "cell_type": "markdown",
   "metadata": {},
   "source": [
    "The only external packages needed are *numpy* and *scipy*, so we need to make sure we have them installed and imported."
   ]
  },
  {
   "cell_type": "code",
   "execution_count": 3,
   "metadata": {},
   "outputs": [
    {
     "name": "stdout",
     "output_type": "stream",
     "text": [
      "\u001b[33mDEPRECATION: Python 2.7 reached the end of its life on January 1st, 2020. Please upgrade your Python as Python 2.7 is no longer maintained. pip 21.0 will drop support for Python 2.7 in January 2021. More details about Python 2 support in pip can be found at https://pip.pypa.io/en/latest/development/release-process/#python-2-support pip 21.0 will remove support for this functionality.\u001b[0m\n",
      "Defaulting to user installation because normal site-packages is not writeable\n",
      "Requirement already satisfied: numpy in /Users/ignaciotalaveracepeda/Library/Python/2.7/lib/python/site-packages (1.16.6)\n",
      "\u001b[33mWARNING: You are using pip version 20.2.3; however, version 20.3.4 is available.\n",
      "You should consider upgrading via the '/System/Library/Frameworks/Python.framework/Versions/2.7/Resources/Python.app/Contents/MacOS/Python -m pip install --upgrade pip' command.\u001b[0m\n",
      "\u001b[33mDEPRECATION: Python 2.7 reached the end of its life on January 1st, 2020. Please upgrade your Python as Python 2.7 is no longer maintained. pip 21.0 will drop support for Python 2.7 in January 2021. More details about Python 2 support in pip can be found at https://pip.pypa.io/en/latest/development/release-process/#python-2-support pip 21.0 will remove support for this functionality.\u001b[0m\n",
      "Defaulting to user installation because normal site-packages is not writeable\n",
      "Requirement already satisfied: matplotlib in /System/Library/Frameworks/Python.framework/Versions/2.7/Extras/lib/python (1.3.1)\n",
      "Requirement already satisfied: numpy>=1.5 in /Users/ignaciotalaveracepeda/Library/Python/2.7/lib/python/site-packages (from matplotlib) (1.16.6)\n",
      "Requirement already satisfied: python-dateutil in /System/Library/Frameworks/Python.framework/Versions/2.7/Extras/lib/python (from matplotlib) (1.5)\n",
      "Collecting tornado\n",
      "  Downloading tornado-5.1.1.tar.gz (516 kB)\n",
      "\u001b[K     |████████████████████████████████| 516 kB 5.3 MB/s \n",
      "\u001b[?25hRequirement already satisfied: pyparsing>=1.5.6 in /System/Library/Frameworks/Python.framework/Versions/2.7/Extras/lib/python (from matplotlib) (2.0.1)\n",
      "Collecting nose\n",
      "  Downloading nose-1.3.7-py2-none-any.whl (154 kB)\n",
      "\u001b[K     |████████████████████████████████| 154 kB 14.0 MB/s \n",
      "\u001b[?25hRequirement already satisfied: futures in /Users/ignaciotalaveracepeda/Library/Python/2.7/lib/python/site-packages (from tornado->matplotlib) (3.3.0)\n",
      "Requirement already satisfied: singledispatch in /Users/ignaciotalaveracepeda/Library/Python/2.7/lib/python/site-packages (from tornado->matplotlib) (3.4.0.3)\n",
      "Collecting backports_abc>=0.4\n",
      "  Downloading backports_abc-0.5-py2.py3-none-any.whl (5.2 kB)\n",
      "Requirement already satisfied: six in /System/Library/Frameworks/Python.framework/Versions/2.7/Extras/lib/python (from singledispatch->tornado->matplotlib) (1.12.0)\n",
      "Building wheels for collected packages: tornado\n",
      "  Building wheel for tornado (setup.py) ... \u001b[?25ldone\n",
      "\u001b[?25h  Created wheel for tornado: filename=tornado-5.1.1-cp27-cp27m-macosx_11_2_x86_64.whl size=449887 sha256=a95e543520f307c31ca2403e7b80e55f6330a82c49d469d8b47ec61ae6ed8838\n",
      "  Stored in directory: /Users/ignaciotalaveracepeda/Library/Caches/pip/wheels/d8/83/af/e0dc6afbf3a2c51af8d6e3f9fbe790d0c581c2de05bc5d50f5\n",
      "Successfully built tornado\n",
      "Installing collected packages: backports-abc, tornado, nose\n",
      "Successfully installed backports-abc-0.5 nose-1.3.7 tornado-5.1.1\n",
      "\u001b[33mWARNING: You are using pip version 20.2.3; however, version 20.3.4 is available.\n",
      "You should consider upgrading via the '/System/Library/Frameworks/Python.framework/Versions/2.7/Resources/Python.app/Contents/MacOS/Python -m pip install --upgrade pip' command.\u001b[0m\n"
     ]
    }
   ],
   "source": [
    "!pip install numpy\n",
    "!pip install scipy"
   ]
  },
  {
   "cell_type": "code",
   "execution_count": 1,
   "metadata": {},
   "outputs": [],
   "source": [
    "import numpy as np\n",
    "from scipy.signal import convolve\n",
    "from IPython.display import clear_output, display_html\n",
    "import time"
   ]
  },
  {
   "cell_type": "markdown",
   "metadata": {},
   "source": [
    "## Starting grid\n",
    "We can set our initial grid, writing 1 for alive cells and 0 for dead cells. Grids of more dimension than 50x50 can make things go wild in Jupyter, so take care."
   ]
  },
  {
   "cell_type": "code",
   "execution_count": 2,
   "metadata": {},
   "outputs": [],
   "source": [
    "starting_grid = np.array(\n",
    "                 [[1,0,0,0,0,0],\n",
    "                  [0,0,0,1,0,0],\n",
    "                  [0,0,0,1,0,0],\n",
    "                  [0,0,0,1,0,0],\n",
    "                  [0,0,0,0,0,0],\n",
    "                  [0,0,0,0,0,0]])\n",
    "\n",
    "assert starting_grid.shape[0] == starting_grid.shape[1], \\\n",
    "           'Expected square universe'\n",
    "    "
   ]
  },
  {
   "cell_type": "markdown",
   "metadata": {},
   "source": [
    "## Game of Life Rules"
   ]
  },
  {
   "cell_type": "markdown",
   "metadata": {},
   "source": [
    "This convolutional filter is added to calculate the number of neighbours of each cell in a convolution operation"
   ]
  },
  {
   "cell_type": "code",
   "execution_count": 3,
   "metadata": {},
   "outputs": [],
   "source": [
    "FILTER = np.array([[1, 1, 1],\n",
    "                   [1, 100, 1],\n",
    "                   [1, 1, 1]], dtype=np.uint8)"
   ]
  },
  {
   "cell_type": "code",
   "execution_count": 4,
   "metadata": {},
   "outputs": [],
   "source": [
    "def evolve(generations):\n",
    "    \"\"\"\n",
    "    Run the Game of Life. Starting state is random.\n",
    "\n",
    "    Parameters\n",
    "    ----------\n",
    "    length : int\n",
    "        Universe will be `length` units per side.\n",
    "    generations : int\n",
    "        Number of generations to run simulation.\n",
    "\n",
    "    \"\"\"\n",
    "    \n",
    "    current = starting_grid\n",
    "    next = np.empty_like(current)\n",
    "    show_board(current)\n",
    "    for _ in range(generations):\n",
    "        advance(current, next)\n",
    "        current, next = next, current\n",
    "        show_board(current)"
   ]
  },
  {
   "cell_type": "code",
   "execution_count": 5,
   "metadata": {},
   "outputs": [],
   "source": [
    "def advance(current, next):\n",
    "    \"\"\"\n",
    "    Calculate the next iteration of the Game of Life.\n",
    "\n",
    "    Parameters\n",
    "    ----------\n",
    "    current : 2D array\n",
    "        Current state of universe.\n",
    "    next : 2D array\n",
    "        This array will be modified in place so that it contains the\n",
    "        next step. Must be the same size as `current`.\n",
    "\n",
    "    \"\"\"\n",
    "    next[:] = 0 # puts all elements in the next array to 0\n",
    "\n",
    "    #Convolution calculation\n",
    "    count = convolve(current, FILTER, mode='same')\n",
    "    next[(count == 3) | (count == 102) | (count == 103)] = 1"
   ]
  },
  {
   "cell_type": "code",
   "execution_count": 6,
   "metadata": {},
   "outputs": [],
   "source": [
    "def show_board(board):\n",
    "    \"\"\"\n",
    "    Print the current Game of Life universe in an HTML table.\n",
    "    Removes any existing output using `IPython.display.clear_output`\n",
    "    to make an animation. This doesn't scale well beyond ~50x50 boards.\n",
    "\n",
    "    Parameters\n",
    "    ----------\n",
    "    board : 2D array\n",
    "        Array representing the current universe.\n",
    "\n",
    "    \"\"\"\n",
    "    clear_output()\n",
    "    nx, ny = board.shape\n",
    "    table = '<table style=\"border-color: black; border-width: 5px;\">\\n'\n",
    "    for y in range(ny-1, -1, -1):\n",
    "        table += '<tr>'\n",
    "        for x in range(0, nx):\n",
    "            if board[x, y]:\n",
    "                table += '<td style=\"background: black; border-color: white;\"></td>'\n",
    "            else:\n",
    "                table += '<td style=\"border-color: white;\"></td>'\n",
    "        table += '</tr>\\n'\n",
    "    table += '</table>'\n",
    "    display_html(table, raw=True)\n",
    "    time.sleep(0.5)"
   ]
  },
  {
   "cell_type": "markdown",
   "metadata": {},
   "source": [
    "## Run Life!\n",
    "Just choose the number of generations and we are good to go."
   ]
  },
  {
   "cell_type": "code",
   "execution_count": 7,
   "metadata": {},
   "outputs": [
    {
     "data": {
      "text/html": [
       "<table style=\"border-color: black; border-width: 5px;\">\n",
       "<tr><td style=\"border-color: white;\"></td><td style=\"border-color: white;\"></td><td style=\"border-color: white;\"></td><td style=\"border-color: white;\"></td><td style=\"border-color: white;\"></td><td style=\"border-color: white;\"></td></tr>\n",
       "<tr><td style=\"border-color: white;\"></td><td style=\"border-color: white;\"></td><td style=\"border-color: white;\"></td><td style=\"border-color: white;\"></td><td style=\"border-color: white;\"></td><td style=\"border-color: white;\"></td></tr>\n",
       "<tr><td style=\"border-color: white;\"></td><td style=\"background: black; border-color: white;\"></td><td style=\"background: black; border-color: white;\"></td><td style=\"background: black; border-color: white;\"></td><td style=\"border-color: white;\"></td><td style=\"border-color: white;\"></td></tr>\n",
       "<tr><td style=\"border-color: white;\"></td><td style=\"border-color: white;\"></td><td style=\"border-color: white;\"></td><td style=\"border-color: white;\"></td><td style=\"border-color: white;\"></td><td style=\"border-color: white;\"></td></tr>\n",
       "<tr><td style=\"border-color: white;\"></td><td style=\"border-color: white;\"></td><td style=\"border-color: white;\"></td><td style=\"border-color: white;\"></td><td style=\"border-color: white;\"></td><td style=\"border-color: white;\"></td></tr>\n",
       "<tr><td style=\"border-color: white;\"></td><td style=\"border-color: white;\"></td><td style=\"border-color: white;\"></td><td style=\"border-color: white;\"></td><td style=\"border-color: white;\"></td><td style=\"border-color: white;\"></td></tr>\n",
       "</table>"
      ]
     },
     "metadata": {},
     "output_type": "display_data"
    }
   ],
   "source": [
    "evolve(500)"
   ]
  },
  {
   "cell_type": "code",
   "execution_count": null,
   "metadata": {},
   "outputs": [],
   "source": []
  }
 ],
 "metadata": {
  "kernelspec": {
   "display_name": "Python 3",
   "language": "python",
   "name": "python3"
  },
  "language_info": {
   "codemirror_mode": {
    "name": "ipython",
    "version": 3
   },
   "file_extension": ".py",
   "mimetype": "text/x-python",
   "name": "python",
   "nbconvert_exporter": "python",
   "pygments_lexer": "ipython3",
   "version": "3.8.5"
  }
 },
 "nbformat": 4,
 "nbformat_minor": 2
}
